{
 "cells": [
  {
   "cell_type": "markdown",
   "metadata": {
    "deletable": false
   },
   "source": [
    "# Studio del decadimento Z<sup>0</sup>&rightarrow;e<sup>+</sup>e<sup>-</sup> nell'esperimento ATLAS\n",
    "\n",
    "## Introduzione\n",
    "\n",
    "In questa analisi, utilizzeremo i [dati pubblici](http://opendata.atlas.cern) dell'esperimento [ATLAS](http://atlas.cern/) al [CERN](http://home.cern/) per studiare la produzione e il decadimento del bosone Z<sup>0</sup>, bosone vettore dell'[interazione elettrodebole](https://it.wikipedia.org/wiki/Interazione_elettrodebole) nel [Modello standard](https://it.wikipedia.org/wiki/Modello_standard). \n",
    "\n",
    "## Brevi cenni al metodo sperimentale"
   ]
  },
  {
   "cell_type": "code",
   "execution_count": 11,
   "metadata": {},
   "outputs": [],
   "source": [
    "#%matplotlib\n",
    "#import matplotlib\n",
    "import os"
   ]
  },
  {
   "cell_type": "code",
   "execution_count": 12,
   "metadata": {},
   "outputs": [
    {
     "name": "stdout",
     "output_type": "stream",
     "text": [
      "{'MaxEvents': 1234567890, 'Fraction': 1, 'Batch': True, 'Analysis': 'TTbarAnalysis', 'OutputDirectory': '/home/builder/results/'}\n"
     ]
    }
   ],
   "source": [
    "from atlas_tools.Configurations import Configuration as basic_config\n",
    "basic_config.Job['OutputDirectory'] = os.path.expanduser(\"~/results/\")\n",
    "print basic_config.Job\n"
   ]
  },
  {
   "cell_type": "code",
   "execution_count": 13,
   "metadata": {},
   "outputs": [],
   "source": [
    "from atlas_tools.RunScript import buildProcessingDict, BuildJob, RunJob"
   ]
  },
  {
   "cell_type": "code",
   "execution_count": 14,
   "metadata": {},
   "outputs": [
    {
     "data": {
      "text/plain": [
       "{'ttbar_had': 'Input/MC/mc_117049.ttbar_had.root'}"
      ]
     },
     "execution_count": 14,
     "metadata": {},
     "output_type": "execute_result"
    }
   ],
   "source": [
    "buildProcessingDict(basic_config, \"ttbar_had\")"
   ]
  },
  {
   "cell_type": "code",
   "execution_count": 15,
   "metadata": {},
   "outputs": [
    {
     "name": "stdout",
     "output_type": "stream",
     "text": [
      "PACKAGE atlas_tools.Analysis\n"
     ]
    },
    {
     "data": {
      "text/plain": [
       "<atlas_tools.Analysis.Job.Job at 0x7f5b85ebefd0>"
      ]
     },
     "execution_count": 15,
     "metadata": {},
     "output_type": "execute_result"
    }
   ],
   "source": [
    "BuildJob(basic_config.Job, 'ttbar_had', '/usr/lib/python2.7/atlas_tools/Input/MC/mc_117049.ttbar_had.root')"
   ]
  },
  {
   "cell_type": "code",
   "execution_count": 16,
   "metadata": {},
   "outputs": [
    {
     "name": "stdout",
     "output_type": "stream",
     "text": [
      "PACKAGE atlas_tools.Analysis\n",
      "Tue Aug 28 18:50:21 2018 Job ttbar_had: Intialization phase\n",
      "Tue Aug 28 18:50:21 2018 Job ttbar_had: Adding file: /usr/lib/python2.7/atlas_tools/Input/MC/mc_117049.ttbar_had.root\n",
      "Tue Aug 28 18:50:21 2018 Job ttbar_had: Now looping over 25170 events\n",
      "Tue Aug 28 18:50:22 2018 EventStatistics ttbar_had.TTbarAnalysis: +----------------------------------------------------------------+\n",
      "Tue Aug 28 18:50:22 2018 EventStatistics ttbar_had.TTbarAnalysis: |                 all :                50340 :          48124.40 |\n",
      "Tue Aug 28 18:50:22 2018 EventStatistics ttbar_had.TTbarAnalysis: |           EventCuts :                25160 :          24055.78 |\n",
      "Tue Aug 28 18:50:22 2018 EventStatistics ttbar_had.TTbarAnalysis: |                 MET :                13948 :          12782.40 |\n",
      "Tue Aug 28 18:50:22 2018 EventStatistics ttbar_had.TTbarAnalysis: |            1 Lepton :                 2895 :           2678.56 |\n",
      "Tue Aug 28 18:50:22 2018 EventStatistics ttbar_had.TTbarAnalysis: |                Jets :                 2103 :           2007.02 |\n",
      "Tue Aug 28 18:50:22 2018 EventStatistics ttbar_had.TTbarAnalysis: |               btags :                  369 :            365.93 |\n",
      "Tue Aug 28 18:50:22 2018 EventStatistics ttbar_had.TTbarAnalysis: |               final :                  219 :            206.56 |\n",
      "Tue Aug 28 18:50:22 2018 EventStatistics ttbar_had.TTbarAnalysis: +----------------------------------------------------------------+\n",
      "Tue Aug 28 18:50:22 2018 Job ttbar_had: finished successfully. Total time:    1s\n"
     ]
    },
    {
     "name": "stderr",
     "output_type": "stream",
     "text": [
      "Error in <TTree::SetBranchStatus>: unknown branch -> jet_flag\n",
      "Error in <TChain::SetBranchAddress>: unknown branch -> jet_flag\n"
     ]
    }
   ],
   "source": [
    "RunJob(BuildJob(basic_config.Job, 'ttbar_had', '/usr/lib/python2.7/atlas_tools/Input/MC/mc_117049.ttbar_had.root')) "
   ]
  },
  {
   "cell_type": "code",
   "execution_count": 17,
   "metadata": {},
   "outputs": [],
   "source": [
    "import ROOT"
   ]
  },
  {
   "cell_type": "code",
   "execution_count": 18,
   "metadata": {},
   "outputs": [],
   "source": [
    "from atlas_tools.PlotResults import *"
   ]
  },
  {
   "cell_type": "code",
   "execution_count": 22,
   "metadata": {},
   "outputs": [],
   "source": [
    "from atlas_tools.Configurations.PlotConf_TTbarAnalysis import config as plot_config"
   ]
  },
  {
   "cell_type": "code",
   "execution_count": 23,
   "metadata": {},
   "outputs": [
    {
     "data": {
      "text/plain": [
       "{'Depictions': {'Definitions': {'Data/MC': {'Paintables': ['data', 'Stack'],\n",
       "    'type': 'Agreement'},\n",
       "   'Main': {'Paintables': ['Stack', 'data'], 'type': 'Main'}},\n",
       "  'Order': ['Main', 'Data/MC']},\n",
       " 'Histograms': {'WtMass': {},\n",
       "  'etmiss': {},\n",
       "  'jet_MV1': {'y_margin': 0.3},\n",
       "  'jet_eta': {},\n",
       "  'jet_jvf': {'y_margin': 0.4},\n",
       "  'jet_m': {},\n",
       "  'jet_pt': {},\n",
       "  'lep_E': {},\n",
       "  'lep_charge': {'y_margin': 0.6},\n",
       "  'lep_d0': {},\n",
       "  'lep_eta': {},\n",
       "  'lep_etconerel20': {},\n",
       "  'lep_n': {},\n",
       "  'lep_phi': {'y_margin': 0.6},\n",
       "  'lep_pt': {},\n",
       "  'lep_ptconerel30': {},\n",
       "  'lep_type': {'y_margin': 0.5},\n",
       "  'lep_z0': {},\n",
       "  'n_jets': {},\n",
       "  'pvxp_n': {},\n",
       "  'vxp_z': {}},\n",
       " 'InputDirectory': 'results',\n",
       " 'Luminosity': 1000,\n",
       " 'Paintables': {'Stack': {'Order': ['Diboson',\n",
       "    'DrellYan',\n",
       "    'W',\n",
       "    'Z',\n",
       "    'stop',\n",
       "    'ttbar'],\n",
       "   'Processes': {'Diboson': {'Color': '#fa7921',\n",
       "     'Contributions': ['WW', 'WZ', 'ZZ']},\n",
       "    'DrellYan': {'Color': '#5bc0eb',\n",
       "     'Contributions': ['DYeeM08to15',\n",
       "      'DYeeM15to40',\n",
       "      'DYmumuM08to15',\n",
       "      'DYmumuM15to40',\n",
       "      'DYtautauM08to15',\n",
       "      'DYtautauM15to40']},\n",
       "    'W': {'Color': '#e55934',\n",
       "     'Contributions': ['WenuJetsBVeto',\n",
       "      'WenuWithB',\n",
       "      'WenuNoJetsBVeto',\n",
       "      'WmunuJetsBVeto',\n",
       "      'WmunuWithB',\n",
       "      'WmunuNoJetsBVeto',\n",
       "      'WtaunuJetsBVeto',\n",
       "      'WtaunuWithB',\n",
       "      'WtaunuNoJetsBVeto']},\n",
       "    'Z': {'Color': '#086788', 'Contributions': ['Zee', 'Zmumu', 'Ztautau']},\n",
       "    'stop': {'Color': '#fde74c',\n",
       "     'Contributions': ['stop_tchan_top',\n",
       "      'stop_tchan_antitop',\n",
       "      'stop_schan',\n",
       "      'stop_wtchan']},\n",
       "    'ttbar': {'Color': '#9bc53d',\n",
       "     'Contributions': ['ttbar_lep', 'ttbar_had']}}},\n",
       "  'data': {'Contributions': ['data_Egamma', 'data_Muons']}}}"
      ]
     },
     "execution_count": 23,
     "metadata": {},
     "output_type": "execute_result"
    }
   ],
   "source": [
    "plot_config"
   ]
  },
  {
   "cell_type": "code",
   "execution_count": null,
   "metadata": {},
   "outputs": [],
   "source": []
  }
 ],
 "metadata": {
  "kernelspec": {
   "display_name": "Python 2",
   "language": "python",
   "name": "python2"
  },
  "language_info": {
   "codemirror_mode": {
    "name": "ipython",
    "version": 2
   },
   "file_extension": ".py",
   "mimetype": "text/x-python",
   "name": "python",
   "nbconvert_exporter": "python",
   "pygments_lexer": "ipython2",
   "version": "2.7.12"
  }
 },
 "nbformat": 4,
 "nbformat_minor": 2
}
