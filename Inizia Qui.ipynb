{
 "cells": [
  {
   "cell_type": "markdown",
   "metadata": {
    "deletable": false
   },
   "source": [
    "# Studio del decadimento Z<sup>0</sup>&rightarrow;e<sup>+</sup>e<sup>-</sup> nell'esperimento ATLAS\n",
    "\n",
    "## Introduzione\n",
    "\n",
    "In questa analisi, utilizzeremo i [dati pubblici](http://opendata.atlas.cern) dell'esperimento [ATLAS](http://atlas.cern/) al [CERN](http://home.cern/) per studiare la produzione e il decadimento del bosone Z<sup>0</sup>, bosone vettore dell'[interazione elettrodebole](https://it.wikipedia.org/wiki/Interazione_elettrodebole) nel [Modello standard](https://it.wikipedia.org/wiki/Modello_standard). \n",
    "\n",
    "![Drell-Yan](figure/dyz.png)\n",
    "\n",
    "## Brevi cenni al metodo sperimentale\n",
    "\n"
   ]
  },
  {
   "cell_type": "code",
   "execution_count": null,
   "metadata": {},
   "outputs": [],
   "source": [
    "#%matplotlib\n",
    "#import matplotlib\n",
    "import os"
   ]
  },
  {
   "cell_type": "code",
   "execution_count": null,
   "metadata": {},
   "outputs": [],
   "source": [
    "from atlas_tools.Configurations import Configuration as basic_config\n",
    "basic_config.Job['OutputDirectory'] = os.path.expanduser(\"~/results/\")\n",
    "print basic_config.Job\n"
   ]
  },
  {
   "cell_type": "code",
   "execution_count": null,
   "metadata": {},
   "outputs": [],
   "source": [
    "from atlas_tools.RunScript import buildProcessingDict, BuildJob, RunJob"
   ]
  },
  {
   "cell_type": "code",
   "execution_count": null,
   "metadata": {},
   "outputs": [],
   "source": [
    "buildProcessingDict(basic_config, \"ttbar_had\")"
   ]
  },
  {
   "cell_type": "code",
   "execution_count": null,
   "metadata": {},
   "outputs": [],
   "source": [
    "BuildJob(basic_config.Job, 'ttbar_had', '/usr/lib/python2.7/atlas_tools/Input/MC/mc_117049.ttbar_had.root')"
   ]
  },
  {
   "cell_type": "code",
   "execution_count": null,
   "metadata": {},
   "outputs": [],
   "source": [
    "RunJob(BuildJob(basic_config.Job, 'ttbar_had', '/usr/lib/python2.7/atlas_tools/Input/MC/mc_117049.ttbar_had.root')) "
   ]
  },
  {
   "cell_type": "code",
   "execution_count": null,
   "metadata": {},
   "outputs": [],
   "source": [
    "import ROOT"
   ]
  },
  {
   "cell_type": "code",
   "execution_count": null,
   "metadata": {},
   "outputs": [],
   "source": [
    "from atlas_tools.PlotResults import *"
   ]
  },
  {
   "cell_type": "code",
   "execution_count": null,
   "metadata": {},
   "outputs": [],
   "source": [
    "from atlas_tools.Configurations.PlotConf_TTbarAnalysis import config as plot_config"
   ]
  },
  {
   "cell_type": "code",
   "execution_count": null,
   "metadata": {},
   "outputs": [],
   "source": [
    "plot_config"
   ]
  },
  {
   "cell_type": "code",
   "execution_count": null,
   "metadata": {},
   "outputs": [],
   "source": []
  }
 ],
 "metadata": {
  "kernelspec": {
   "display_name": "Python 2",
   "language": "python",
   "name": "python2"
  },
  "language_info": {
   "codemirror_mode": {
    "name": "ipython",
    "version": 2
   },
   "file_extension": ".py",
   "mimetype": "text/x-python",
   "name": "python",
   "nbconvert_exporter": "python",
   "pygments_lexer": "ipython2",
   "version": "2.7.12"
  }
 },
 "nbformat": 4,
 "nbformat_minor": 2
}
