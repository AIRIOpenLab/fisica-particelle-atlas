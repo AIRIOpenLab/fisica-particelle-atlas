{
 "cells": [
  {
   "cell_type": "markdown",
   "metadata": {
    "deletable": false
   },
   "source": [
    "# Benvenuto"
   ]
  },
  {
   "cell_type": "code",
   "execution_count": 9,
   "metadata": {},
   "outputs": [
    {
     "name": "stdout",
     "output_type": "stream",
     "text": [
      "Using matplotlib backend: TkAgg\n"
     ]
    }
   ],
   "source": [
    "%matplotlib\n",
    "import matplotlib\n",
    "import os"
   ]
  },
  {
   "cell_type": "code",
   "execution_count": 10,
   "metadata": {},
   "outputs": [
    {
     "name": "stdout",
     "output_type": "stream",
     "text": [
      "{'MaxEvents': 1234567890, 'Fraction': 1, 'Batch': True, 'Analysis': 'TTbarAnalysis', 'OutputDirectory': '/home/builder/results/'}\n"
     ]
    }
   ],
   "source": [
    "from atlas_tools.Configurations import Configuration as basic_config\n",
    "basic_config.Job['OutputDirectory'] = os.path.expanduser(\"~/results/\")\n",
    "print basic_config.Job\n"
   ]
  },
  {
   "cell_type": "code",
   "execution_count": 11,
   "metadata": {},
   "outputs": [],
   "source": [
    "from atlas_tools.RunScript import buildProcessingDict, BuildJob, RunJob"
   ]
  },
  {
   "cell_type": "code",
   "execution_count": 12,
   "metadata": {},
   "outputs": [
    {
     "data": {
      "text/plain": [
       "{'ttbar_had': 'Input/MC/mc_117049.ttbar_had.root'}"
      ]
     },
     "execution_count": 12,
     "metadata": {},
     "output_type": "execute_result"
    }
   ],
   "source": [
    "buildProcessingDict(basic_config, \"ttbar_had\")"
   ]
  },
  {
   "cell_type": "code",
   "execution_count": 13,
   "metadata": {},
   "outputs": [
    {
     "name": "stdout",
     "output_type": "stream",
     "text": [
      "PACKAGE atlas_tools.Analysis\n"
     ]
    },
    {
     "data": {
      "text/plain": [
       "<atlas_tools.Analysis.Job.Job at 0x7ffa533422d0>"
      ]
     },
     "execution_count": 13,
     "metadata": {},
     "output_type": "execute_result"
    }
   ],
   "source": [
    "BuildJob(basic_config.Job, 'ttbar_had', '/usr/lib/python2.7/atlas_tools/Input/MC/mc_117049.ttbar_had.root')"
   ]
  },
  {
   "cell_type": "code",
   "execution_count": 14,
   "metadata": {},
   "outputs": [
    {
     "name": "stdout",
     "output_type": "stream",
     "text": [
      "PACKAGE atlas_tools.Analysis\n",
      "Tue Aug 28 16:34:56 2018 Job ttbar_had: Intialization phase\n",
      "Tue Aug 28 16:34:56 2018 Job ttbar_had: Adding file: /usr/lib/python2.7/atlas_tools/Input/MC/mc_117049.ttbar_had.root\n",
      "Tue Aug 28 16:34:56 2018 Job ttbar_had: Now looping over 25170 events\n",
      "Tue Aug 28 16:34:56 2018 EventStatistics ttbar_had.TTbarAnalysis: +----------------------------------------------------------------+\n",
      "Tue Aug 28 16:34:56 2018 EventStatistics ttbar_had.TTbarAnalysis: |                 all :                50340 :          48124.40 |\n",
      "Tue Aug 28 16:34:56 2018 EventStatistics ttbar_had.TTbarAnalysis: |           EventCuts :                25160 :          24055.78 |\n",
      "Tue Aug 28 16:34:56 2018 EventStatistics ttbar_had.TTbarAnalysis: |                 MET :                13948 :          12782.40 |\n",
      "Tue Aug 28 16:34:56 2018 EventStatistics ttbar_had.TTbarAnalysis: |            1 Lepton :                 2895 :           2678.56 |\n",
      "Tue Aug 28 16:34:56 2018 EventStatistics ttbar_had.TTbarAnalysis: |                Jets :                 2103 :           2007.02 |\n",
      "Tue Aug 28 16:34:56 2018 EventStatistics ttbar_had.TTbarAnalysis: |               btags :                  369 :            365.93 |\n",
      "Tue Aug 28 16:34:56 2018 EventStatistics ttbar_had.TTbarAnalysis: |               final :                  219 :            206.56 |\n",
      "Tue Aug 28 16:34:56 2018 EventStatistics ttbar_had.TTbarAnalysis: +----------------------------------------------------------------+\n",
      "Tue Aug 28 16:34:56 2018 Job ttbar_had: finished successfully. Total time:    1s\n"
     ]
    },
    {
     "name": "stderr",
     "output_type": "stream",
     "text": [
      "Error in <TTree::SetBranchStatus>: unknown branch -> jet_flag\n",
      "Error in <TChain::SetBranchAddress>: unknown branch -> jet_flag\n"
     ]
    }
   ],
   "source": [
    "RunJob(BuildJob(basic_config.Job, 'ttbar_had', '/usr/lib/python2.7/atlas_tools/Input/MC/mc_117049.ttbar_had.root')) "
   ]
  },
  {
   "cell_type": "code",
   "execution_count": null,
   "metadata": {},
   "outputs": [],
   "source": []
  }
 ],
 "metadata": {
  "kernelspec": {
   "display_name": "Python 2",
   "language": "python",
   "name": "python2"
  },
  "language_info": {
   "codemirror_mode": {
    "name": "ipython",
    "version": 2
   },
   "file_extension": ".py",
   "mimetype": "text/x-python",
   "name": "python",
   "nbconvert_exporter": "python",
   "pygments_lexer": "ipython2",
   "version": "2.7.12"
  }
 },
 "nbformat": 4,
 "nbformat_minor": 2
}
